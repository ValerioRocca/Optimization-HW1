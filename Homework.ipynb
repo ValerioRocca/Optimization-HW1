{
  "cells": [
    {
      "cell_type": "markdown",
      "source": [
        "Group members:\n",
        "\n",
        "\n",
        "-   Ceccon Gioele - 2079425\n",
        "-   Nardella Gaia\n",
        "-   Renna Pietro\n",
        "-   Rocca Valerio\n",
        "\n"
      ],
      "metadata": {
        "id": "BmhH15wkmq06"
      },
      "id": "BmhH15wkmq06"
    },
    {
      "cell_type": "markdown",
      "source": [
        "# Imports"
      ],
      "metadata": {
        "id": "nZMDcbramcej"
      },
      "id": "nZMDcbramcej"
    },
    {
      "cell_type": "code",
      "execution_count": null,
      "id": "f981e728",
      "metadata": {
        "id": "f981e728"
      },
      "outputs": [],
      "source": [
        "from xml.dom import pulldom\n",
        "import numpy as np\n",
        "import matplotlib.pyplot as plt\n",
        "import random\n",
        "from sklearn.metrics import accuracy_score\n",
        "import time "
      ]
    },
    {
      "cell_type": "markdown",
      "source": [
        "# Point Generation"
      ],
      "metadata": {
        "id": "02z6evH8miZU"
      },
      "id": "02z6evH8miZU"
    },
    {
      "cell_type": "markdown",
      "source": [
        "We decided to generate 10000 points: \n",
        "\n",
        "\n",
        "1.   5000 belong to class 1 \n",
        "2.   5000 belong to class -1\n",
        "\n",
        "In total, only 5% of the samples (equally divided among the two classes) have their true labeled assigned. \n",
        "\n"
      ],
      "metadata": {
        "id": "91la0E5unNJZ"
      },
      "id": "91la0E5unNJZ"
    },
    {
      "cell_type": "code",
      "source": [
        "n_points = 1000  # change to 10000"
      ],
      "metadata": {
        "id": "h68pvkBLoCPK"
      },
      "id": "h68pvkBLoCPK",
      "execution_count": null,
      "outputs": []
    },
    {
      "cell_type": "code",
      "execution_count": null,
      "id": "0c7481c1",
      "metadata": {
        "id": "0c7481c1"
      },
      "outputs": [],
      "source": [
        "# Set up parameters for the L shape\n",
        "mu1 = np.array([-2, 0])\n",
        "mu2 = np.array([2, 4])\n",
        "mu3 = np.array([2, 11])\n",
        "mu4 = np.array([-2, 7])\n",
        "sigma1 = np.array([[7, 0], [0, 0.5]])\n",
        "sigma2 = np.array([[0.5, 0], [0, 4]])  # Modified standard deviation for sample 2\n",
        "sigma3 = np.array([[7, 0], [0, 0.5]])\n",
        "sigma4 = np.array([[0.5, 0], [0, 4]])  # Modified standard deviation for sample 4\n",
        "weights = [0.25, 0.25, 0.25, 0.25]"
      ]
    },
    {
      "cell_type": "code",
      "execution_count": null,
      "id": "513126f8",
      "metadata": {
        "id": "513126f8"
      },
      "outputs": [],
      "source": [
        "# Generate random points in the L shape using the Bivariate Gaussian Mixture Distribution\n",
        "samples1 = np.random.multivariate_normal(mu1, sigma1, int(n_points * weights[0]))\n",
        "samples2 = np.random.multivariate_normal(mu2, sigma2, int(n_points * weights[1]))\n",
        "samples3 = np.random.multivariate_normal(mu3, sigma3, int(n_points * weights[2]))\n",
        "samples4 = np.random.multivariate_normal(mu4, sigma4, int(n_points * weights[3]))"
      ]
    },
    {
      "cell_type": "code",
      "execution_count": null,
      "id": "0f7324a5",
      "metadata": {
        "id": "0f7324a5"
      },
      "outputs": [],
      "source": [
        "# Assign class labels to the samples\n",
        "# class1 = np.concatenate((samples2, samples1))\n",
        "class1 = np.concatenate((samples2, samples1))\n",
        "class1 = np.c_[class1, np.zeros(len(class1))]\n",
        "count = 0\n",
        "true_unlab = []\n",
        "for i in class1:\n",
        "    if count == 19:\n",
        "        count = 0\n",
        "        i[2] = 1\n",
        "    else: \n",
        "      true_unlab.append(1)\n",
        "    count += 1\n",
        "\n",
        "class2 = np.concatenate((samples3, samples4))\n",
        "class2 = np.c_[class2, np.zeros(len(class2))]\n",
        "count = 0\n",
        "for i in class2:\n",
        "    if count == 19:\n",
        "        count = 0\n",
        "        i[2] = -1\n",
        "    else: \n",
        "      true_unlab.append(-1)\n",
        "    count += 1\n",
        "\n",
        "# Combine the samples of all three classes\n",
        "all_samples = np.concatenate((class1, class2))"
      ]
    },
    {
      "cell_type": "code",
      "execution_count": null,
      "id": "8ff7eae7",
      "metadata": {
        "id": "8ff7eae7"
      },
      "outputs": [],
      "source": [
        "# Split the samples based on their class label\n",
        "unlabeled_samples = all_samples[all_samples[:, 2] == 0]\n",
        "class1_samples = all_samples[all_samples[:, 2] == 1]\n",
        "class2_samples = all_samples[all_samples[:, 2] == -1]"
      ]
    },
    {
      "cell_type": "code",
      "execution_count": null,
      "id": "a9a76855",
      "metadata": {
        "id": "a9a76855"
      },
      "outputs": [],
      "source": [
        "# Labeled matrix\n",
        "labeled_samples = np.concatenate((class1_samples, class2_samples))"
      ]
    },
    {
      "cell_type": "code",
      "execution_count": null,
      "id": "58a4e93e",
      "metadata": {
        "id": "58a4e93e"
      },
      "outputs": [],
      "source": [
        "# Assign random label to unlabeled units\n",
        "random_unlabeled = np.copy(unlabeled_samples)\n",
        "random_unlabeled[:, 2] = np.random.choice([-1, 1], size=np.shape(unlabeled_samples)[0], p=[0.5, 0.5])"
      ]
    },
    {
      "cell_type": "code",
      "execution_count": null,
      "id": "9e3cd84f",
      "metadata": {
        "colab": {
          "base_uri": "https://localhost:8080/",
          "height": 449
        },
        "id": "9e3cd84f",
        "outputId": "a0804873-3522-4563-9e9d-81d625906cfd"
      },
      "outputs": [
        {
          "output_type": "display_data",
          "data": {
            "text/plain": [
              "<Figure size 640x480 with 1 Axes>"
            ],
            "image/png": "[encoded data removed]"
          },
          "metadata": {}
        }
      ],
      "source": [
        "# Plot the samples of each class with a different color and marker\n",
        "plt.scatter(unlabeled_samples[:, 0], unlabeled_samples[:, 1], color='grey', label='Unlabeled', alpha=0.7)\n",
        "plt.scatter(class1_samples[:, 0], class1_samples[:, 1], color='red', label='Label 1', alpha=0.7)\n",
        "plt.scatter(class2_samples[:, 0], class2_samples[:, 1], color='blue', label='Label -1', alpha=0.7)\n",
        "\n",
        "# Add legend and axis labels\n",
        "plt.legend()\n",
        "plt.xlabel('X_1')\n",
        "plt.ylabel('X_2')\n",
        "\n",
        "# Show the plot\n",
        "plt.show()"
      ]
    },
    {
      "cell_type": "markdown",
      "source": [
        "# Similarity function and weights computation"
      ],
      "metadata": {
        "id": "piOodwu8oX37"
      },
      "id": "piOodwu8oX37"
    },
    {
      "cell_type": "markdown",
      "source": [
        "Since the points are drawn from a 2D space, we choose to adopt the euclidean distance as similarity function:\n",
        "$$\n",
        "distance(x,y) = \\|x - y\\|_2\n",
        "$$"
      ],
      "metadata": {
        "id": "EW4yAYqjociq"
      },
      "id": "EW4yAYqjociq"
    },
    {
      "cell_type": "code",
      "source": [
        "def min_max_normalize_matrix(matrix):\n",
        "    min_val = np.min(matrix)\n",
        "    max_val = np.max(matrix)\n",
        "    return (matrix - min_val) / (max_val - min_val)"
      ],
      "metadata": {
        "id": "FG5MffaXo8EG"
      },
      "id": "FG5MffaXo8EG",
      "execution_count": null,
      "outputs": []
    },
    {
      "cell_type": "code",
      "source": [
        "w = np.zeros((np.shape(unlabeled_samples)[0], np.shape(labeled_samples)[0]))\n",
        "w_bar = np.zeros((np.shape(unlabeled_samples)[0], np.shape(unlabeled_samples)[0]))\n",
        "\n",
        "# similarity matrix unlabeled-labeled\n",
        "for row in range(np.shape(w)[0]):\n",
        "    for col in range(np.shape(w)[1]):\n",
        "        w[row, col] = np.linalg.norm(unlabeled_samples[row, :2] - labeled_samples[col, :2])\n",
        "\n",
        "# similarity matrix unlabeled-unlabeled\n",
        "for row in range(np.shape(w_bar)[0]):\n",
        "    for col in range(np.shape(w_bar)[1]):\n",
        "        w_bar[row, col] = np.linalg.norm(unlabeled_samples[row, :2] - unlabeled_samples[col, :2])"
      ],
      "metadata": {
        "id": "8xTQfKKio_dp"
      },
      "id": "8xTQfKKio_dp",
      "execution_count": null,
      "outputs": []
    },
    {
      "cell_type": "code",
      "source": [
        "w = min_max_normalize_matrix(w)\n",
        "w_bar = min_max_normalize_matrix(w_bar)"
      ],
      "metadata": {
        "id": "DyTv9cbOpEsv"
      },
      "id": "DyTv9cbOpEsv",
      "execution_count": null,
      "outputs": []
    },
    {
      "cell_type": "markdown",
      "source": [
        "# Lipschitz constant"
      ],
      "metadata": {
        "id": "VB4aAETXqXu5"
      },
      "id": "VB4aAETXqXu5"
    },
    {
      "cell_type": "markdown",
      "source": [
        "If f is twice continuously differentiable, then the Lipschitz constant can be estimated as the maximum eigenvalue of the Hessian matrix $\\nabla^2 f$ at any point in the domain of f. Specifically, the Lipschitz constant L is given by:\n",
        "$$ L = \\|\\nabla^2 f(x)\\| $$\n",
        "\n",
        "Thus, we can use the maximum eigenvalue of $\\nabla^2 f$ to estimate L."
      ],
      "metadata": {
        "id": "ruvcNQO3E3s6"
      },
      "id": "ruvcNQO3E3s6"
    },
    {
      "cell_type": "markdown",
      "source": [
        "In this problem, the Hessian matrix is a diagonal matrix positive-definite."
      ],
      "metadata": {
        "id": "lPRIEIBjBPQp"
      },
      "id": "lPRIEIBjBPQp"
    },
    {
      "cell_type": "code",
      "source": [
        "def hessian(w=w, w_bar=w_bar):\n",
        "  dim = np.shape(unlabeled_samples)[0]\n",
        "  h = np.zeros((dim,dim))\n",
        "\n",
        "  for i in range(dim):\n",
        "    h[i,i] = 2 * (np.sum(w[i,:]) + np.sum(w_bar[i,:]))\n",
        "\n",
        "  return h\n"
      ],
      "metadata": {
        "id": "iObW_EhZ5wTT"
      },
      "id": "iObW_EhZ5wTT",
      "execution_count": null,
      "outputs": []
    },
    {
      "cell_type": "code",
      "source": [
        "def compute_L(hessian):\n",
        "  eigenvalues = np.linalg.eigvals(hessian)\n",
        "  return np.max(np.abs(eigenvalues))"
      ],
      "metadata": {
        "id": "ly5ctHnpCYmh"
      },
      "id": "ly5ctHnpCYmh",
      "execution_count": null,
      "outputs": []
    },
    {
      "cell_type": "code",
      "source": [
        "h = hessian()\n",
        "L = compute_L(h)\n",
        "print(L)"
      ],
      "metadata": {
        "colab": {
          "base_uri": "https://localhost:8080/"
        },
        "id": "TdHg8gg3HhNC",
        "outputId": "630de426-17a1-45d3-fd6f-0b35f852e0ad"
      },
      "id": "TdHg8gg3HhNC",
      "execution_count": null,
      "outputs": [
        {
          "output_type": "stream",
          "name": "stdout",
          "text": [
            "1069.854100000329\n"
          ]
        }
      ]
    },
    {
      "cell_type": "markdown",
      "source": [
        "# Gradient Methods"
      ],
      "metadata": {
        "id": "mJiPo4T7pTFH"
      },
      "id": "mJiPo4T7pTFH"
    },
    {
      "cell_type": "code",
      "source": [
        "# Threshold selector\n",
        "def threshold_sel(y_lab_norm):\n",
        "    y_lab_out = np.copy(y_lab_norm)\n",
        "    y_lab_out[y_lab_out < 0.5] = -1\n",
        "    y_lab_out[y_lab_out >= 0.5] = 1\n",
        "    return y_lab_out"
      ],
      "metadata": {
        "id": "fErmcnFZpX66"
      },
      "id": "fErmcnFZpX66",
      "execution_count": null,
      "outputs": []
    },
    {
      "cell_type": "markdown",
      "source": [
        "## Gradient Descent"
      ],
      "metadata": {
        "id": "rw8BQKewpa95"
      },
      "id": "rw8BQKewpa95"
    },
    {
      "cell_type": "code",
      "source": [
        "def gradient(lab_samples, unlab_samples, w=w, w_bar=w_bar):\n",
        "    grads = []\n",
        "    for j in range(np.shape(unlab_samples)[0]):  # Da 0 a 947\n",
        "        grad = 0\n",
        "        for i in range(np.shape(lab_samples)[0]):\n",
        "            grad += w[j][i] * (unlab_samples[j][2] - lab_samples[i][2])\n",
        "        for i in range(np.shape(unlab_samples)[0]):\n",
        "            grad += w_bar[j][i] * (unlab_samples[j][2] - unlab_samples[i][2])\n",
        "        grads.append(2 * grad)  # / (np.shape(lab_samples)[0] + np.shape(unlab_samples)[0])) #GRADIENT+NORMALIZATION\n",
        "    return np.array(grads)"
      ],
      "metadata": {
        "id": "i3W2L8Wjpiha"
      },
      "id": "i3W2L8Wjpiha",
      "execution_count": null,
      "outputs": []
    },
    {
      "cell_type": "code",
      "source": [
        "def gradient_descent(lab_samples, unlab_samples, alpha=1/L, epochs=1000):\n",
        "    #y_lab = np.copy(unlab_samples[:, 2])\n",
        "    y_lab = np.copy(unlab_samples)\n",
        "\n",
        "    y_list = []\n",
        "    time_list = []\n",
        "\n",
        "    start_time = time.time()\n",
        "\n",
        "    for i in range(epochs):\n",
        "        grads = gradient(lab_samples, y_lab)\n",
        "\n",
        "        if np.linalg.norm(grads) < 0.00001: \n",
        "            break\n",
        "\n",
        "        y_lab[:,2] -= alpha * grads\n",
        "\n",
        "        if(i % 50 == 0):\n",
        "          print(np.linalg.norm(grads))\n",
        "          y_list.append(y_lab[2])\n",
        "          elapsed_time = time.time() - start_time\n",
        "          time_list.append(elapsed_time)\n",
        "\n",
        "    return y_lab[:,2], np.array(y_list), np.array(time_list)"
      ],
      "metadata": {
        "id": "9tguI_9FpksZ"
      },
      "id": "9tguI_9FpksZ",
      "execution_count": null,
      "outputs": []
    },
    {
      "cell_type": "code",
      "source": [
        "%%time\n",
        "y_lab_gd, y_list_gd, time_list_gd = gradient_descent(labeled_samples, random_unlabeled)\n",
        "y_lab_gd_p = threshold_sel(y_lab_gd)\n",
        "print(\"Accuracy for Gradient Descent\")\n",
        "print(accuracy_score(true_unlab, y_lab_gd_p))\n",
        "print(\"Number of 1 in Gradient Descent {}\".format(np.sum(y_lab_gd_p == 1) / len(y_lab_gd_p)))\n",
        "print(\"Number of -1 in Gradient Descent {}\".format(np.sum(y_lab_gd_p == -1) / len(y_lab_gd_p)))\n"
      ],
      "metadata": {
        "colab": {
          "base_uri": "https://localhost:8080/"
        },
        "id": "TbNbsT6jpm_x",
        "outputId": "5661a3ac-4fd9-47ad-9e13-9c79ebcbb7f9"
      },
      "id": "TbNbsT6jpm_x",
      "execution_count": null,
      "outputs": [
        {
          "output_type": "stream",
          "name": "stdout",
          "text": [
            "18760.52833757449\n",
            "7.395507442921415\n",
            "1.507186741963836\n",
            "0.30716105590912496\n",
            "0.0625986890942843\n",
            "0.01275746322958515\n",
            "0.0025999405164693168\n",
            "0.0005298616635298978\n",
            "2.2006991313831734e-05\n",
            "Accuracy for Gradient Descent\n",
            "0.5\n",
            "Number of 1 in Gradient Descent 0.0\n",
            "Number of -1 in Gradient Descent 1.0\n",
            "CPU times: user 4min 49s, sys: 510 ms, total: 4min 49s\n",
            "Wall time: 4min 53s\n"
          ]
        }
      ]
    },
    {
      "cell_type": "code",
      "source": [
        "accuracy_list_gd = []\n",
        "for i in y_list_gd:\n",
        "  i = threshold_sel(i)\n",
        "  print(i)\n",
        "  acc = accuracy_score(true_unlab,i)\n",
        "  accuracy_list_gd.append(acc)\n",
        "\n",
        "print(accuracy_list_gd)"
      ],
      "metadata": {
        "colab": {
          "base_uri": "https://localhost:8080/",
          "height": 432
        },
        "id": "lK8nlZ1izhmd",
        "outputId": "7ffebca4-1fac-487d-8ea8-7030c8e446ca"
      },
      "id": "lK8nlZ1izhmd",
      "execution_count": null,
      "outputs": [
        {
          "output_type": "stream",
          "name": "stdout",
          "text": [
            "[ 1.  1. -1.]\n"
          ]
        },
        {
          "output_type": "error",
          "ename": "ValueError",
          "evalue": "ignored",
          "traceback": [
            "\u001b[0;31m---------------------------------------------------------------------------\u001b[0m",
            "\u001b[0;31mValueError\u001b[0m                                Traceback (most recent call last)",
            "\u001b[0;32m<ipython-input-97-4c834da40c5c>\u001b[0m in \u001b[0;36m<cell line: 2>\u001b[0;34m()\u001b[0m\n\u001b[1;32m      3\u001b[0m   \u001b[0mi\u001b[0m \u001b[0;34m=\u001b[0m \u001b[0mthreshold_sel\u001b[0m\u001b[0;34m(\u001b[0m\u001b[0mi\u001b[0m\u001b[0;34m)\u001b[0m\u001b[0;34m\u001b[0m\u001b[0;34m\u001b[0m\u001b[0m\n\u001b[1;32m      4\u001b[0m   \u001b[0mprint\u001b[0m\u001b[0;34m(\u001b[0m\u001b[0mi\u001b[0m\u001b[0;34m)\u001b[0m\u001b[0;34m\u001b[0m\u001b[0;34m\u001b[0m\u001b[0m\n\u001b[0;32m----> 5\u001b[0;31m   \u001b[0macc\u001b[0m \u001b[0;34m=\u001b[0m \u001b[0maccuracy_score\u001b[0m\u001b[0;34m(\u001b[0m\u001b[0mtrue_unlab\u001b[0m\u001b[0;34m,\u001b[0m\u001b[0mi\u001b[0m\u001b[0;34m)\u001b[0m\u001b[0;34m\u001b[0m\u001b[0;34m\u001b[0m\u001b[0m\n\u001b[0m\u001b[1;32m      6\u001b[0m   \u001b[0maccuracy_list_gd\u001b[0m\u001b[0;34m.\u001b[0m\u001b[0mappend\u001b[0m\u001b[0;34m(\u001b[0m\u001b[0macc\u001b[0m\u001b[0;34m)\u001b[0m\u001b[0;34m\u001b[0m\u001b[0;34m\u001b[0m\u001b[0m\n\u001b[1;32m      7\u001b[0m \u001b[0;34m\u001b[0m\u001b[0m\n",
            "\u001b[0;32m/usr/local/lib/python3.10/dist-packages/sklearn/utils/_param_validation.py\u001b[0m in \u001b[0;36mwrapper\u001b[0;34m(*args, **kwargs)\u001b[0m\n\u001b[1;32m    190\u001b[0m \u001b[0;34m\u001b[0m\u001b[0m\n\u001b[1;32m    191\u001b[0m             \u001b[0;32mtry\u001b[0m\u001b[0;34m:\u001b[0m\u001b[0;34m\u001b[0m\u001b[0;34m\u001b[0m\u001b[0m\n\u001b[0;32m--> 192\u001b[0;31m                 \u001b[0;32mreturn\u001b[0m \u001b[0mfunc\u001b[0m\u001b[0;34m(\u001b[0m\u001b[0;34m*\u001b[0m\u001b[0margs\u001b[0m\u001b[0;34m,\u001b[0m \u001b[0;34m**\u001b[0m\u001b[0mkwargs\u001b[0m\u001b[0;34m)\u001b[0m\u001b[0;34m\u001b[0m\u001b[0;34m\u001b[0m\u001b[0m\n\u001b[0m\u001b[1;32m    193\u001b[0m             \u001b[0;32mexcept\u001b[0m \u001b[0mInvalidParameterError\u001b[0m \u001b[0;32mas\u001b[0m \u001b[0me\u001b[0m\u001b[0;34m:\u001b[0m\u001b[0;34m\u001b[0m\u001b[0;34m\u001b[0m\u001b[0m\n\u001b[1;32m    194\u001b[0m                 \u001b[0;31m# When the function is just a wrapper around an estimator, we allow\u001b[0m\u001b[0;34m\u001b[0m\u001b[0;34m\u001b[0m\u001b[0m\n",
            "\u001b[0;32m/usr/local/lib/python3.10/dist-packages/sklearn/metrics/_classification.py\u001b[0m in \u001b[0;36maccuracy_score\u001b[0;34m(y_true, y_pred, normalize, sample_weight)\u001b[0m\n\u001b[1;32m    219\u001b[0m \u001b[0;34m\u001b[0m\u001b[0m\n\u001b[1;32m    220\u001b[0m     \u001b[0;31m# Compute accuracy for each possible representation\u001b[0m\u001b[0;34m\u001b[0m\u001b[0;34m\u001b[0m\u001b[0m\n\u001b[0;32m--> 221\u001b[0;31m     \u001b[0my_type\u001b[0m\u001b[0;34m,\u001b[0m \u001b[0my_true\u001b[0m\u001b[0;34m,\u001b[0m \u001b[0my_pred\u001b[0m \u001b[0;34m=\u001b[0m \u001b[0m_check_targets\u001b[0m\u001b[0;34m(\u001b[0m\u001b[0my_true\u001b[0m\u001b[0;34m,\u001b[0m \u001b[0my_pred\u001b[0m\u001b[0;34m)\u001b[0m\u001b[0;34m\u001b[0m\u001b[0;34m\u001b[0m\u001b[0m\n\u001b[0m\u001b[1;32m    222\u001b[0m     \u001b[0mcheck_consistent_length\u001b[0m\u001b[0;34m(\u001b[0m\u001b[0my_true\u001b[0m\u001b[0;34m,\u001b[0m \u001b[0my_pred\u001b[0m\u001b[0;34m,\u001b[0m \u001b[0msample_weight\u001b[0m\u001b[0;34m)\u001b[0m\u001b[0;34m\u001b[0m\u001b[0;34m\u001b[0m\u001b[0m\n\u001b[1;32m    223\u001b[0m     \u001b[0;32mif\u001b[0m \u001b[0my_type\u001b[0m\u001b[0;34m.\u001b[0m\u001b[0mstartswith\u001b[0m\u001b[0;34m(\u001b[0m\u001b[0;34m\"multilabel\"\u001b[0m\u001b[0;34m)\u001b[0m\u001b[0;34m:\u001b[0m\u001b[0;34m\u001b[0m\u001b[0;34m\u001b[0m\u001b[0m\n",
            "\u001b[0;32m/usr/local/lib/python3.10/dist-packages/sklearn/metrics/_classification.py\u001b[0m in \u001b[0;36m_check_targets\u001b[0;34m(y_true, y_pred)\u001b[0m\n\u001b[1;32m     84\u001b[0m     \u001b[0my_pred\u001b[0m \u001b[0;34m:\u001b[0m \u001b[0marray\u001b[0m \u001b[0;32mor\u001b[0m \u001b[0mindicator\u001b[0m \u001b[0mmatrix\u001b[0m\u001b[0;34m\u001b[0m\u001b[0;34m\u001b[0m\u001b[0m\n\u001b[1;32m     85\u001b[0m     \"\"\"\n\u001b[0;32m---> 86\u001b[0;31m     \u001b[0mcheck_consistent_length\u001b[0m\u001b[0;34m(\u001b[0m\u001b[0my_true\u001b[0m\u001b[0;34m,\u001b[0m \u001b[0my_pred\u001b[0m\u001b[0;34m)\u001b[0m\u001b[0;34m\u001b[0m\u001b[0;34m\u001b[0m\u001b[0m\n\u001b[0m\u001b[1;32m     87\u001b[0m     \u001b[0mtype_true\u001b[0m \u001b[0;34m=\u001b[0m \u001b[0mtype_of_target\u001b[0m\u001b[0;34m(\u001b[0m\u001b[0my_true\u001b[0m\u001b[0;34m,\u001b[0m \u001b[0minput_name\u001b[0m\u001b[0;34m=\u001b[0m\u001b[0;34m\"y_true\"\u001b[0m\u001b[0;34m)\u001b[0m\u001b[0;34m\u001b[0m\u001b[0;34m\u001b[0m\u001b[0m\n\u001b[1;32m     88\u001b[0m     \u001b[0mtype_pred\u001b[0m \u001b[0;34m=\u001b[0m \u001b[0mtype_of_target\u001b[0m\u001b[0;34m(\u001b[0m\u001b[0my_pred\u001b[0m\u001b[0;34m,\u001b[0m \u001b[0minput_name\u001b[0m\u001b[0;34m=\u001b[0m\u001b[0;34m\"y_pred\"\u001b[0m\u001b[0;34m)\u001b[0m\u001b[0;34m\u001b[0m\u001b[0;34m\u001b[0m\u001b[0m\n",
            "\u001b[0;32m/usr/local/lib/python3.10/dist-packages/sklearn/utils/validation.py\u001b[0m in \u001b[0;36mcheck_consistent_length\u001b[0;34m(*arrays)\u001b[0m\n\u001b[1;32m    395\u001b[0m     \u001b[0muniques\u001b[0m \u001b[0;34m=\u001b[0m \u001b[0mnp\u001b[0m\u001b[0;34m.\u001b[0m\u001b[0munique\u001b[0m\u001b[0;34m(\u001b[0m\u001b[0mlengths\u001b[0m\u001b[0;34m)\u001b[0m\u001b[0;34m\u001b[0m\u001b[0;34m\u001b[0m\u001b[0m\n\u001b[1;32m    396\u001b[0m     \u001b[0;32mif\u001b[0m \u001b[0mlen\u001b[0m\u001b[0;34m(\u001b[0m\u001b[0muniques\u001b[0m\u001b[0;34m)\u001b[0m \u001b[0;34m>\u001b[0m \u001b[0;36m1\u001b[0m\u001b[0;34m:\u001b[0m\u001b[0;34m\u001b[0m\u001b[0;34m\u001b[0m\u001b[0m\n\u001b[0;32m--> 397\u001b[0;31m         raise ValueError(\n\u001b[0m\u001b[1;32m    398\u001b[0m             \u001b[0;34m\"Found input variables with inconsistent numbers of samples: %r\"\u001b[0m\u001b[0;34m\u001b[0m\u001b[0;34m\u001b[0m\u001b[0m\n\u001b[1;32m    399\u001b[0m             \u001b[0;34m%\u001b[0m \u001b[0;34m[\u001b[0m\u001b[0mint\u001b[0m\u001b[0;34m(\u001b[0m\u001b[0ml\u001b[0m\u001b[0;34m)\u001b[0m \u001b[0;32mfor\u001b[0m \u001b[0ml\u001b[0m \u001b[0;32min\u001b[0m \u001b[0mlengths\u001b[0m\u001b[0;34m]\u001b[0m\u001b[0;34m\u001b[0m\u001b[0;34m\u001b[0m\u001b[0m\n",
            "\u001b[0;31mValueError\u001b[0m: Found input variables with inconsistent numbers of samples: [948, 3]"
          ]
        }
      ]
    },
    {
      "cell_type": "markdown",
      "source": [
        "## Randomized BCGD"
      ],
      "metadata": {
        "id": "uRp7QpaapqGn"
      },
      "id": "uRp7QpaapqGn"
    },
    {
      "cell_type": "code",
      "source": [
        "def rand_gradient(lab_samples, unlab_samples, w=w, w_bar=w_bar):\n",
        "    grads = np.zeros(np.shape(unlabeled_samples)[0])\n",
        "    j = np.random.randint(0, np.shape(unlab_samples)[0])\n",
        "    j = int(j)\n",
        "    grad = 0\n",
        "    for i in range(np.shape(lab_samples)[0]):\n",
        "        grad += w[j][i] * (unlab_samples[j][2] - lab_samples[i][2])\n",
        "    for i in range(np.shape(unlab_samples)[0]):\n",
        "        grad += w_bar[j][i] * (unlab_samples[j][2] - unlab_samples[i][2])\n",
        "    grads[j] = 2 * grad  # / (np.shape(lab_samples)[0] + np.shape(unlab_samples)[0])\n",
        "    return grads"
      ],
      "metadata": {
        "id": "Y7SbGizcp6K-"
      },
      "id": "Y7SbGizcp6K-",
      "execution_count": null,
      "outputs": []
    },
    {
      "cell_type": "code",
      "source": [
        "def rand_bcgd(lab_samples, unlab_samples, alpha=1/L, epochs=1000):\n",
        "    y = np.copy(unlab_samples)\n",
        "\n",
        "    for _ in range(epochs):\n",
        "        grads = rand_gradient(lab_samples, y)\n",
        "\n",
        "        if np.linalg.norm(grads) < 0.001: \n",
        "            break\n",
        "\n",
        "        y[:, 2] -= alpha * grads\n",
        "\n",
        "    y_lab = np.copy(y[:, 2])\n",
        "\n",
        "    return y_lab"
      ],
      "metadata": {
        "id": "wE9WDNBRp8O-"
      },
      "id": "wE9WDNBRp8O-",
      "execution_count": null,
      "outputs": []
    },
    {
      "cell_type": "code",
      "source": [
        "y_lab_rand_bcgd = rand_bcgd(labeled_samples, random_unlabeled)\n",
        "y_lab_rand_bcgd_p = threshold_sel(y_lab_rand_bcgd)\n",
        "print(\"Accuracy for Randomized BCGD\")\n",
        "print(accuracy_score(true_unlab, y_lab_rand_bcgd_p))\n",
        "print(\"Frequency of 1 in Randomized BCGD {}\".format(np.sum(y_lab_rand_bcgd_p == 1) / len(y_lab_rand_bcgd_p)))\n",
        "print(\"Frequency of -1 in Randomized BCGD {}\".format(np.sum(y_lab_rand_bcgd_p == -1) / len(y_lab_rand_bcgd_p)))\n"
      ],
      "metadata": {
        "colab": {
          "base_uri": "https://localhost:8080/"
        },
        "id": "pHTYXbOup-g4",
        "outputId": "e4f9e1d8-3490-4d60-aaf5-c8b92c641cd2"
      },
      "id": "pHTYXbOup-g4",
      "execution_count": null,
      "outputs": [
        {
          "output_type": "stream",
          "name": "stdout",
          "text": [
            "Accuracy for Randomized BCGD\n",
            "0.48945147679324896\n",
            "Frequency of 1 in Randomized BCGD 0.2552742616033755\n",
            "Frequency of -1 in Randomized BCGD 0.7447257383966245\n"
          ]
        }
      ]
    },
    {
      "cell_type": "markdown",
      "source": [
        "## Gauss-Southwell BCDG"
      ],
      "metadata": {
        "id": "lpEi41hvqCII"
      },
      "id": "lpEi41hvqCII"
    },
    {
      "cell_type": "code",
      "source": [
        "def max_gradient(lab_samples, unlab_samples):\n",
        "    grad = gradient(lab_samples, unlab_samples)\n",
        "    j = np.argmax(np.abs(gradient(lab_samples, unlab_samples)))\n",
        "    grads = np.zeros(np.shape(unlabeled_samples)[0])\n",
        "    grads[j] = grad[j]\n",
        "    return grads"
      ],
      "metadata": {
        "id": "iOJAT31tqHIm"
      },
      "id": "iOJAT31tqHIm",
      "execution_count": null,
      "outputs": []
    },
    {
      "cell_type": "code",
      "source": [
        "def gs_bcgd(lab_samples, unlab_samples, alpha=1/L, epochs=1000):\n",
        "    y = np.copy(unlab_samples)\n",
        "\n",
        "    for _ in range(epochs):\n",
        "        grads = max_gradient(lab_samples, y)\n",
        "\n",
        "        if np.linalg.norm(grads) < 0.001: \n",
        "            break\n",
        "\n",
        "        y[:, 2] -= alpha * grads\n",
        "\n",
        "    y_lab = np.copy(y[:, 2])\n",
        "\n",
        "    return y_lab"
      ],
      "metadata": {
        "id": "LdkhbPGiqJdp"
      },
      "id": "LdkhbPGiqJdp",
      "execution_count": null,
      "outputs": []
    },
    {
      "cell_type": "code",
      "source": [
        "y_lab_gs_bcgd = gs_bcgd(labeled_samples, random_unlabeled)\n",
        "y_lab_gs_bcgd_p = threshold_sel(y_lab_gs_bcgd)\n",
        "print(\"Accuracy for Gauss Sauthwell BCGD\")\n",
        "print(accuracy_score(true_unlab, y_lab_gs_bcgd_p))\n",
        "\n",
        "print(\"Frequency of 1 in Gauss Sauthwell BCGD {}\".format(np.sum(y_lab_gs_bcgd_p == 1) / len(y_lab_gs_bcgd_p)))\n",
        "print(\"Frequency of -1 in Gauss Sauthwell BCGD {}\".format(np.sum(y_lab_gs_bcgd_p == -1) / len(y_lab_gs_bcgd_p)))\n",
        "\n",
        "print(prova == y_lab_gs_bcgd_p)"
      ],
      "metadata": {
        "colab": {
          "base_uri": "https://localhost:8080/"
        },
        "id": "En2fKOM8qOV3",
        "outputId": "0e3ccaf8-9832-417b-bb1e-380e65d2c897"
      },
      "id": "En2fKOM8qOV3",
      "execution_count": null,
      "outputs": [
        {
          "output_type": "stream",
          "name": "stdout",
          "text": [
            "Accuracy for Gauss Sauthwell BCGD\n",
            "0.4957805907172996\n",
            "Frequency of 1 in Gauss Sauthwell BCGD 0.4578059071729958\n",
            "Frequency of -1 in Gauss Sauthwell BCGD 0.5421940928270043\n",
            "[ True  True  True  True  True  True  True  True  True  True  True  True\n",
            "  True  True  True  True  True  True  True  True  True  True  True  True\n",
            "  True  True  True  True  True  True  True  True  True  True  True  True\n",
            "  True  True  True  True  True  True  True  True  True  True  True  True\n",
            "  True  True  True  True  True  True  True  True  True  True  True  True\n",
            "  True  True  True  True  True  True  True  True  True  True  True  True\n",
            "  True  True  True  True  True  True  True  True  True  True  True  True\n",
            "  True  True  True  True  True  True  True  True  True  True  True  True\n",
            "  True  True  True  True  True  True  True  True  True  True  True  True\n",
            "  True  True  True  True  True  True  True  True  True  True  True  True\n",
            "  True  True  True  True  True  True  True  True  True  True  True  True\n",
            "  True  True  True  True  True  True  True  True  True  True  True  True\n",
            "  True  True  True  True  True  True  True  True  True  True  True  True\n",
            "  True  True  True  True  True  True  True  True  True  True  True  True\n",
            "  True  True  True  True  True  True  True  True  True  True  True  True\n",
            "  True  True  True  True  True  True  True  True  True  True  True  True\n",
            "  True  True  True  True  True  True  True  True  True  True  True  True\n",
            "  True  True  True  True  True  True  True  True  True  True  True  True\n",
            "  True  True  True  True  True  True  True  True  True  True  True  True\n",
            "  True  True  True  True  True  True  True  True  True  True  True  True\n",
            "  True  True  True  True  True  True  True  True  True  True  True  True\n",
            "  True  True  True  True  True  True  True False  True  True  True  True\n",
            "  True  True  True  True  True False  True  True  True  True  True  True\n",
            "  True  True  True False  True  True  True  True  True  True  True  True\n",
            "  True False  True  True  True  True  True  True  True  True  True  True\n",
            "  True  True  True  True  True  True False  True  True False  True  True\n",
            "  True  True  True  True  True  True  True  True  True  True  True  True\n",
            "  True  True  True  True  True  True  True  True  True False  True False\n",
            "  True  True  True  True  True  True  True  True  True  True  True  True\n",
            "  True  True  True  True  True  True  True  True  True False  True  True\n",
            "  True  True  True False  True False  True False  True  True  True  True\n",
            "  True  True False  True False  True  True  True False  True False  True\n",
            "  True  True  True False  True  True  True  True  True  True  True  True\n",
            "  True  True  True  True  True  True  True  True  True  True  True  True\n",
            "  True  True  True  True  True  True  True  True  True  True False  True\n",
            "  True  True  True  True  True  True  True False  True  True  True  True\n",
            "  True  True False  True  True False  True  True  True  True  True  True\n",
            "  True  True  True  True  True  True  True  True  True  True  True  True\n",
            "  True  True  True  True  True  True  True  True  True False  True  True\n",
            "  True  True False  True  True False False  True  True  True  True False\n",
            "  True  True  True  True  True False  True False  True  True  True  True\n",
            "  True  True  True  True  True  True  True  True  True  True  True  True\n",
            "  True  True  True  True  True  True  True  True  True  True  True  True\n",
            "  True  True  True  True  True  True  True False  True False  True  True\n",
            "  True  True  True  True False  True  True  True  True  True  True  True\n",
            "  True  True  True  True  True  True  True  True  True False  True  True\n",
            "  True  True  True  True  True  True  True False  True False  True  True\n",
            "  True False  True  True  True  True  True  True  True  True  True  True\n",
            "  True  True False False  True  True  True  True  True  True  True  True\n",
            "  True  True  True  True  True  True  True  True  True False  True  True\n",
            " False  True  True  True  True  True  True  True  True  True  True  True\n",
            "  True  True  True  True  True  True  True  True  True  True  True  True\n",
            "  True  True  True  True  True  True  True  True  True  True  True  True\n",
            "  True  True  True False  True  True  True  True  True  True  True  True\n",
            "  True  True  True  True  True  True  True  True  True  True  True  True\n",
            "  True  True  True  True  True  True  True  True  True  True  True  True\n",
            "  True  True  True  True  True  True  True  True  True  True False  True\n",
            " False  True  True  True  True  True  True  True  True  True  True  True\n",
            "  True  True  True  True  True False  True  True  True  True  True  True\n",
            "  True  True  True  True  True  True  True  True  True  True  True  True\n",
            "  True  True  True  True  True  True  True  True  True  True  True  True\n",
            "  True  True  True  True  True  True  True  True  True  True  True  True\n",
            "  True  True  True  True  True  True  True  True  True  True  True  True\n",
            "  True  True  True  True  True  True  True  True  True  True  True  True\n",
            "  True  True  True  True  True  True  True  True  True  True  True  True\n",
            "  True  True  True  True  True  True  True  True  True  True  True  True\n",
            "  True  True  True  True  True  True  True  True  True  True  True  True\n",
            "  True  True  True  True  True  True  True  True  True  True  True  True\n",
            "  True  True  True  True  True  True  True  True  True  True  True  True\n",
            "  True  True  True  True  True  True  True  True  True  True  True  True\n",
            "  True  True  True  True  True  True  True  True  True  True  True  True\n",
            "  True  True  True  True  True  True  True  True  True  True  True  True\n",
            "  True  True  True  True  True  True  True  True  True  True  True  True\n",
            "  True  True  True  True  True  True  True  True  True  True  True  True\n",
            "  True  True  True  True  True  True  True  True  True  True  True  True\n",
            "  True  True  True  True  True  True  True  True  True  True  True  True\n",
            "  True  True  True  True  True  True  True  True  True  True  True  True\n",
            "  True  True  True  True  True  True  True  True  True  True  True  True\n",
            "  True  True  True  True  True  True  True  True  True  True  True  True]\n"
          ]
        }
      ]
    }
  ],
  "metadata": {
    "kernelspec": {
      "display_name": "Python 3",
      "language": "python",
      "name": "python3"
    },
    "language_info": {
      "codemirror_mode": {
        "name": "ipython",
        "version": 3
      },
      "file_extension": ".py",
      "mimetype": "text/x-python",
      "name": "python",
      "nbconvert_exporter": "python",
      "pygments_lexer": "ipython3",
      "version": "3.8.8"
    },
    "colab": {
      "provenance": [],
      "collapsed_sections": [
        "nZMDcbramcej",
        "02z6evH8miZU",
        "piOodwu8oX37",
        "VB4aAETXqXu5",
        "lpEi41hvqCII"
      ]
    }
  },
  "nbformat": 4,
  "nbformat_minor": 5
}